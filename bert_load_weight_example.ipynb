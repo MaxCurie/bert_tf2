{
 "cells": [
  {
   "cell_type": "code",
   "execution_count": null,
   "metadata": {},
   "outputs": [],
   "source": [
    "import tensorflow as tf\n",
    "import modeling_tf2 as modeling\n",
    "\n",
    "# allow gpu growth\n",
    "tf.config.gpu.set_per_process_memory_growth(True)\n",
    "\n",
    "# bert config\n",
    "init_checkpoint = \"./uncased_L-24_H-1024_A-16/bert_model.ckpt\"\n",
    "bert_config_file = \"./uncased_L-24_H-1024_A-16/bert_config.json\"\n",
    "bert_config = modeling.BertConfig.from_json_file(bert_config_file)"
   ]
  },
  {
   "cell_type": "code",
   "execution_count": null,
   "metadata": {},
   "outputs": [],
   "source": [
    "# fake input for initializing weights\n",
    "input_ids = tf.Variable(tf.ones(shape=(1, 512), dtype=tf.int32))\n",
    "\n",
    "bert = modeling.BertModel(bert_config, is_training=True)\n",
    "bert(inputs = input_ids)\n",
    "\n",
    "bert.load_weights(init_checkpoint)"
   ]
  }
 ],
 "metadata": {
  "kernelspec": {
   "display_name": "Python [conda env:tf2]",
   "language": "python",
   "name": "tf2"
  },
  "language_info": {
   "codemirror_mode": {
    "name": "ipython",
    "version": 3
   },
   "file_extension": ".py",
   "mimetype": "text/x-python",
   "name": "python",
   "nbconvert_exporter": "python",
   "pygments_lexer": "ipython3",
   "version": "3.6.8"
  }
 },
 "nbformat": 4,
 "nbformat_minor": 2
}
